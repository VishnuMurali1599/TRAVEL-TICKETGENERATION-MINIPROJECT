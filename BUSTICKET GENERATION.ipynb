{
 "cells": [
  {
   "cell_type": "markdown",
   "id": "0f181692",
   "metadata": {},
   "source": [
    "                                      \"Program Details\""
   ]
  },
  {
   "cell_type": "markdown",
   "id": "bc76f5e6",
   "metadata": {},
   "source": [
    "Welcome All "
   ]
  },
  {
   "cell_type": "markdown",
   "id": "b08f9a10",
   "metadata": {},
   "source": [
    "This project is regarding Bus ticket generation in banglore"
   ]
  },
  {
   "cell_type": "markdown",
   "id": "251cb035",
   "metadata": {},
   "source": [
    "                           \"Bus Ticket Generation Program\""
   ]
  },
  {
   "cell_type": "code",
   "execution_count": null,
   "id": "e6cdc706",
   "metadata": {},
   "outputs": [],
   "source": []
  },
  {
   "cell_type": "code",
   "execution_count": 10,
   "id": "4cf190db",
   "metadata": {},
   "outputs": [
    {
     "name": "stdout",
     "output_type": "stream",
     "text": [
      "0\n"
     ]
    }
   ],
   "source": [
    "stage1=int(input())   #Starting Stage of Vehicle"
   ]
  },
  {
   "cell_type": "code",
   "execution_count": 11,
   "id": "2ab7e553",
   "metadata": {},
   "outputs": [
    {
     "name": "stdout",
     "output_type": "stream",
     "text": [
      "4\n"
     ]
    }
   ],
   "source": [
    "stage2=int(input())   #The Stage passenger wants to get down."
   ]
  },
  {
   "cell_type": "code",
   "execution_count": 12,
   "id": "18de93ea",
   "metadata": {},
   "outputs": [
    {
     "name": "stdout",
     "output_type": "stream",
     "text": [
      "Enter number of people: 1\n"
     ]
    }
   ],
   "source": [
    "nop=int(input(\"Enter number of people: \"))   #number of people "
   ]
  },
  {
   "cell_type": "code",
   "execution_count": 35,
   "id": "7d276d9b",
   "metadata": {},
   "outputs": [
    {
     "name": "stdout",
     "output_type": "stream",
     "text": [
      "Stage1\n",
      " To\n",
      "Stage6\n",
      "        Fare + GST\n",
      "1 * 25 = 25 + 0\n",
      "Total : RS 25 (cash)\n"
     ]
    }
   ],
   "source": [
    "SL=[\"Stage1\",\"Stage2\",\"Stage3\",\"Stage4\",\"Stage5\",\"Stage6\",\"Stage7\",\"Stage8\",\"Stage9\",\"Stage10\"]\n",
    "for i in range(len(SL)):\n",
    "    ST=stage2-stage1\n",
    "    Fixedcharges=5\n",
    "    GST=0\n",
    "    Fare=nop*Fixedcharges*ST\n",
    "    Price=Fixedcharges*ST\n",
    "    \n",
    "    From=SL[stage1]\n",
    "    TOGO=SL[stage2]\n",
    "print(From)\n",
    "print(\" To\")\n",
    "print(TOGO)\n",
    "\n",
    "print(\"       \",\"Fare\",\"+\",\"GST\")\n",
    "print(nop,\"*\",Price,\"=\",Fare,\"+\",GST)\n",
    "print(\"Total : RS\",Fare,\"(cash)\")"
   ]
  },
  {
   "cell_type": "code",
   "execution_count": null,
   "id": "dd865b2e",
   "metadata": {},
   "outputs": [],
   "source": []
  },
  {
   "cell_type": "code",
   "execution_count": null,
   "id": "44de3a0b",
   "metadata": {},
   "outputs": [],
   "source": []
  },
  {
   "cell_type": "markdown",
   "id": "f344b37b",
   "metadata": {},
   "source": [
    "                    \"Bus Ticket Generation Program by using functions\""
   ]
  },
  {
   "cell_type": "code",
   "execution_count": 36,
   "id": "c5294629",
   "metadata": {},
   "outputs": [],
   "source": [
    "def BMTC_TICKET(stage1,stage2,nop):\n",
    "    \n",
    "    \n",
    "    \"stage1=The stage passenger enterd,stage2= The Stgae passenger going to get down,nop=number od people\"\n",
    "    \n",
    "    \n",
    "    SL=[\"Stage1\",\"Stage2\",\"Stage3\",\"Stage4\",\"Stage5\",\"Stage6\",\"Stage7\",\"Stage8\",\"Stage9\",\"Stage10\"]\n",
    "    for i in range(len(SL)):\n",
    "        ST=stage2-stage1\n",
    "        Fixedcharges=5\n",
    "        Fare=nop*Fixedcharges*ST\n",
    "        GST=0\n",
    "        Price=Fixedcharges*ST\n",
    "        \n",
    "        \n",
    "        From=SL[stage1]\n",
    "        TOGO=SL[stage2]\n",
    "    print(From)\n",
    "    print(\"To\")\n",
    "    print(TOGO)\n",
    "    print(\"       \",\"Fare\",\"+\",\"GST\")\n",
    "    print(nop,\"*\",Price,\"=\",Fare,\"+\",GST)\n",
    "    print(\"Total : RS\",Fare,\"(cash)\")\n",
    "    \n",
    "    "
   ]
  },
  {
   "cell_type": "code",
   "execution_count": 37,
   "id": "bf4ab97a",
   "metadata": {},
   "outputs": [
    {
     "name": "stdout",
     "output_type": "stream",
     "text": [
      "Stage1\n",
      "To\n",
      "Stage5\n",
      "        Fare + GST\n",
      "1 * 20 = 20 + 0\n",
      "Total : RS 20 (cash)\n"
     ]
    }
   ],
   "source": [
    "BMTC_TICKET(0,4,1)"
   ]
  },
  {
   "cell_type": "code",
   "execution_count": null,
   "id": "2b49324e",
   "metadata": {},
   "outputs": [],
   "source": []
  },
  {
   "cell_type": "code",
   "execution_count": null,
   "id": "1d0b4b95",
   "metadata": {},
   "outputs": [],
   "source": []
  },
  {
   "cell_type": "markdown",
   "id": "15736200",
   "metadata": {},
   "source": [
    "           Here's is some example with the help of stop name(stage name)"
   ]
  },
  {
   "cell_type": "markdown",
   "id": "443c21cf",
   "metadata": {},
   "source": [
    "Example 1:"
   ]
  },
  {
   "cell_type": "code",
   "execution_count": 19,
   "id": "5de1c264",
   "metadata": {},
   "outputs": [
    {
     "name": "stdout",
     "output_type": "stream",
     "text": [
      "0\n"
     ]
    }
   ],
   "source": [
    "stage1=int(input())   #Starting Stage of Vehicle"
   ]
  },
  {
   "cell_type": "code",
   "execution_count": 41,
   "id": "f82a188d",
   "metadata": {},
   "outputs": [
    {
     "name": "stdout",
     "output_type": "stream",
     "text": [
      "4\n"
     ]
    }
   ],
   "source": [
    "stage2=int(input())   #The Stage passenger wants to get down."
   ]
  },
  {
   "cell_type": "code",
   "execution_count": 42,
   "id": "8c7000ed",
   "metadata": {},
   "outputs": [
    {
     "name": "stdout",
     "output_type": "stream",
     "text": [
      "Enter number of people: 1\n"
     ]
    }
   ],
   "source": [
    "nop=int(input(\"Enter number of people: \"))   #number of people "
   ]
  },
  {
   "cell_type": "code",
   "execution_count": 43,
   "id": "274e9d9f",
   "metadata": {},
   "outputs": [
    {
     "name": "stdout",
     "output_type": "stream",
     "text": [
      "BashyamCircle(sadh)\n",
      "To\n",
      "MagadiRoad\n",
      "        Fare + GST\n",
      "1 * 20 = 20 + 0\n",
      "Total : RS 20 (cash)\n"
     ]
    }
   ],
   "source": [
    "SL=[\"BashyamCircle(sadh)\",\"DT Temple\",\"HG ghat\",\"ESI\",\"MagadiRoad\"]  #SL = STAGE LIST\n",
    "for i in range(len(SL)):\n",
    "    ST=stage2-stage1\n",
    "    Fixedcharges=5\n",
    "    Fare=nop*Fixedcharges*ST\n",
    "    GST=0\n",
    "    Price=Fixedcharges*ST\n",
    "    \n",
    "    \n",
    "    From=SL[stage1]\n",
    "    TOGO=SL[stage2]\n",
    "print(From)\n",
    "print(\"To\")\n",
    "print(TOGO)\n",
    "print(\"       \",\"Fare\",\"+\",\"GST\")\n",
    "print(nop,\"*\",Price,\"=\",Fare,\"+\",GST)\n",
    "print(\"Total : RS\",Fare,\"(cash)\")"
   ]
  },
  {
   "cell_type": "code",
   "execution_count": null,
   "id": "9659755a",
   "metadata": {},
   "outputs": [],
   "source": []
  },
  {
   "cell_type": "code",
   "execution_count": null,
   "id": "8d944594",
   "metadata": {},
   "outputs": [],
   "source": []
  },
  {
   "cell_type": "markdown",
   "id": "682d800e",
   "metadata": {},
   "source": [
    "Example 2:"
   ]
  },
  {
   "cell_type": "code",
   "execution_count": 24,
   "id": "4239d8e7",
   "metadata": {},
   "outputs": [
    {
     "name": "stdout",
     "output_type": "stream",
     "text": [
      "0\n"
     ]
    }
   ],
   "source": [
    "stage1=int(input())   #Starting Stage of Vehicle"
   ]
  },
  {
   "cell_type": "code",
   "execution_count": 25,
   "id": "0cd96a7c",
   "metadata": {},
   "outputs": [
    {
     "name": "stdout",
     "output_type": "stream",
     "text": [
      "5\n"
     ]
    }
   ],
   "source": [
    "stage2=int(input())   #The Stage passenger wants to get down"
   ]
  },
  {
   "cell_type": "code",
   "execution_count": 26,
   "id": "5d11918a",
   "metadata": {},
   "outputs": [
    {
     "name": "stdout",
     "output_type": "stream",
     "text": [
      "Enter number of people: 1\n"
     ]
    }
   ],
   "source": [
    "nop=int(input(\"Enter number of people: \"))   #number of people "
   ]
  },
  {
   "cell_type": "code",
   "execution_count": 44,
   "id": "d757a8f2",
   "metadata": {},
   "outputs": [
    {
     "name": "stdout",
     "output_type": "stream",
     "text": [
      "KBS\n",
      "TO\n",
      "Batrayanapura\n",
      "        Fare + GST\n",
      "1 * 20 = 20 + 0\n",
      "Total : RS 20 (cash)\n"
     ]
    }
   ],
   "source": [
    "SL=[\"KBS\",\"ShivanandaCircle\",\"CBI\",\"Hebbal\",\"Batrayanapura\",\"YelhankaNES\",\"VenkaTala\",\"BSF\"]\n",
    "for i in range(len(SL)):\n",
    "    ST=stage2-stage1\n",
    "    Fixedcharges=5\n",
    "    Fare=nop*Fixedcharges*ST\n",
    "    GST=0\n",
    "    Price=Fixedcharges*ST\n",
    "    \n",
    "    From=SL[stage1]\n",
    "    TOGO=SL[stage2]\n",
    "    \n",
    "print(From)\n",
    "print(\"TO\")\n",
    "print(TOGO)\n",
    "print(\"       \",\"Fare\",\"+\",\"GST\")\n",
    "print(nop,\"*\",Price,\"=\",Fare,\"+\",GST)\n",
    "print(\"Total : RS\",Fare,\"(cash)\")"
   ]
  },
  {
   "cell_type": "code",
   "execution_count": null,
   "id": "6b553ad5",
   "metadata": {},
   "outputs": [],
   "source": []
  },
  {
   "cell_type": "code",
   "execution_count": 45,
   "id": "9ff7b0c8",
   "metadata": {},
   "outputs": [],
   "source": [
    "def Bus_Ticket(stage1,stage2,nop):\n",
    "    SL=[\"KBS\",\"ShivanandaCircle\",\"CBI\",\"Hebbal\",\"Batrayanapura\",\"YelhankaNES\",\"VenkaTala\",\"BSF\"]\n",
    "    for i in range(len(SL)):\n",
    "        ST=stage2-stage1\n",
    "        Fixedcharges=5\n",
    "        Fare=nop*Fixedcharges*ST\n",
    "        GST=0\n",
    "        Price=Fixedcharges*ST\n",
    "        \n",
    "        From=SL[stage1]\n",
    "        TOGO=SL[stage2]\n",
    "        \n",
    "        \n",
    "    print(From)\n",
    "    print(\"To\")\n",
    "    print(TOGO)\n",
    "    print(\"       \",\"Fare\",\"+\",\"GST\")\n",
    "    print(nop,\"*\",Price,\"=\",Fare,\"+\",GST)\n",
    "    print(\"Total : RS\",Fare,\"(cash)\")"
   ]
  },
  {
   "cell_type": "code",
   "execution_count": 46,
   "id": "d57d87b8",
   "metadata": {},
   "outputs": [
    {
     "name": "stdout",
     "output_type": "stream",
     "text": [
      "KBS\n",
      "To\n",
      "YelhankaNES\n",
      "        Fare + GST\n",
      "1 * 25 = 25 + 0\n",
      "Total : RS 25 (cash)\n"
     ]
    }
   ],
   "source": [
    "Bus_Ticket(0,5,1)"
   ]
  },
  {
   "cell_type": "code",
   "execution_count": null,
   "id": "1322510c",
   "metadata": {},
   "outputs": [],
   "source": []
  }
 ],
 "metadata": {
  "kernelspec": {
   "display_name": "Python 3 (ipykernel)",
   "language": "python",
   "name": "python3"
  },
  "language_info": {
   "codemirror_mode": {
    "name": "ipython",
    "version": 3
   },
   "file_extension": ".py",
   "mimetype": "text/x-python",
   "name": "python",
   "nbconvert_exporter": "python",
   "pygments_lexer": "ipython3",
   "version": "3.10.9"
  }
 },
 "nbformat": 4,
 "nbformat_minor": 5
}
